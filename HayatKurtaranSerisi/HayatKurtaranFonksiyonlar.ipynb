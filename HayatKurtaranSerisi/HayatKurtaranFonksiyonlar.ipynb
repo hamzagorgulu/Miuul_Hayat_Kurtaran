{
  "nbformat": 4,
  "nbformat_minor": 0,
  "metadata": {
    "colab": {
      "name": "HayatKurtaranFonksiyonlar.ipynb",
      "provenance": [],
      "collapsed_sections": []
    },
    "kernelspec": {
      "name": "python3",
      "display_name": "Python 3"
    },
    "language_info": {
      "name": "python"
    }
  },
  "cells": [
    {
      "cell_type": "markdown",
      "source": [
        "#Kütüphaneler"
      ],
      "metadata": {
        "id": "Pb4QHA9dlP0w"
      }
    },
    {
      "cell_type": "code",
      "source": [
        "import numpy as np\n",
        "import pandas as pd\n",
        "import seaborn as sns\n",
        "import matplotlib.pyplot as plt\n",
        "import missingno as msno\n",
        "from datetime import date\n",
        "from sklearn.metrics import accuracy_score\n",
        "from sklearn.model_selection import train_test_split\n",
        "from sklearn.neighbors import LocalOutlierFactor\n",
        "from sklearn.preprocessing import MinMaxScaler, LabelEncoder, StandardScaler, RobustScaler"
      ],
      "metadata": {
        "id": "2QuP4uT0lLPy"
      },
      "execution_count": null,
      "outputs": []
    },
    {
      "cell_type": "markdown",
      "source": [
        "#Dataframe'i Kontrol için :"
      ],
      "metadata": {
        "id": "ZG-5qlYPlSq4"
      }
    },
    {
      "cell_type": "code",
      "source": [
        "def check_df(dataframe, head=8):\n",
        "  print(\"##### Shape #####\")\n",
        "  print(dataframe.shape)\n",
        "  print(\"##### Types #####\")\n",
        "  print(dataframe.dtypes)\n",
        "  print(\"##### Tail #####\")\n",
        "  print(dataframe.tail(head))\n",
        "  print(\"##### Head #####\")\n",
        "  print(dataframe.head(head))\n",
        "  print(\"##### Null Analysis #####\")\n",
        "  print(dataframe.isnull().sum())\n",
        "  print(\"##### Quantiles #####\")\n",
        "  print(dataframe.describe([0,0.05, 0.50, 0.95, 0.99, 1]).T)\n"
      ],
      "metadata": {
        "id": "C_4n_qjThtd_"
      },
      "execution_count": 3,
      "outputs": []
    },
    {
      "cell_type": "markdown",
      "source": [
        "#Kolonları çeşitlerine (numeric, categoric, cardinal) ayırmak için :\n"
      ],
      "metadata": {
        "id": "uPaDpf7blXBZ"
      }
    },
    {
      "cell_type": "code",
      "source": [
        "def grab_col_names(dataframe, cat_th=10, car_th=20): #essiz deger sayisi 10dan kucukse kategorik degisken, 20 den buyukse de kardinal degisken gibi dusunucez. \n",
        "  cat_cols = [col for col in dataframe.columns if str(dataframe[col].dtypes) in [\"category\", \"object\", \"bool\"]]\n",
        "\n",
        "  num_but_cat = [col for col in dataframe.columns if dataframe[col].nunique() < 10 and dataframe[col].dtypes in [\"int\",\"float\"]]\n",
        "  \n",
        "  cat_but_car = [col for col in dataframe.columns if dataframe[col].nunique() > 20 and str(dataframe[col].dtypes) in [\"category\", \"object\"]]\n",
        "\n",
        "  cat_cols = num_but_cat + cat_cols\n",
        "  cat_cols = [col for col in cat_cols if col not in cat_but_car]\n",
        "\n",
        "  num_cols = [col for col in dataframe.columns if dataframe[col].dtypes in [\"int\",\"float\"]]\n",
        "  num_cols = [col for col in num_cols if col not in cat_cols]\n",
        "\n",
        "  print(f\"Observations: {dataframe.shape[0]}\")\n",
        "  print(f\"Variables: {dataframe.shape[1]}\")\n",
        "  print(f\"Categorical Columns: {len(cat_cols)}\")\n",
        "  print(f\"Numerical Columns: {len(num_cols)}\")\n",
        "  print(f\"Categoric but Cardinal: {len(cat_but_car)}\")\n",
        "  print(f\"Numeric but Categoric: {len(num_but_cat)}\")\n",
        "\n",
        "  return cat_cols, num_cols, cat_but_car\n"
      ],
      "metadata": {
        "id": "MLFcVP7zhyTQ"
      },
      "execution_count": 11,
      "outputs": []
    },
    {
      "cell_type": "markdown",
      "source": [
        "#Yuksek Korelasyonlu Degiskenlerin listesi için :\n"
      ],
      "metadata": {
        "id": "1ULieEX8laZk"
      }
    },
    {
      "cell_type": "code",
      "source": [
        "def high_correlated_cols(dataframe, plot= False, corr_th = 0.90):\n",
        "  corr = dataframe.corr()\n",
        "  cor_matrix = corr.abs()\n",
        "  upper_triangle_matrix = cor_matrix.where(np.triu(np.ones(cor_matrix.shape), k=1).astype(np.bool))\n",
        "  drop_list = [col for col in upper_triangle_matrix.columns if any(upper_triangle_matrix[col]>0.90)]\n",
        "  if plot:\n",
        "    sns.set(rc={'figure.figsize': (15,15)})\n",
        "    sns.heatmap(corr, cmap=\"RdBu\")\n",
        "    plt.show()\n",
        "  return drop_list"
      ],
      "metadata": {
        "id": "QhniWuDEiFi3"
      },
      "execution_count": 12,
      "outputs": []
    },
    {
      "cell_type": "markdown",
      "source": [
        "#Aykırı değerimizi saptama işlemi için:\n"
      ],
      "metadata": {
        "id": "ZiftiC4EldbK"
      }
    },
    {
      "cell_type": "code",
      "source": [
        "def outlier_thresholds(dataframe, col_name, q1 = 0.25, q3 = 0.75):\n",
        "  quantile1 = dataframe[col_name].quantile(q1)\n",
        "  quantile3 = dataframe[col_name].quantile(q3)\n",
        "  interquantile_range = quantile3 - quantile1\n",
        "  up_limit = quantile3 + 1.5 * interquantile_range\n",
        "  low_limit = quantile1 - 1.5 * interquantile_range\n",
        "  return low_limit, up_limit"
      ],
      "metadata": {
        "id": "wlJBzGVKiK3z"
      },
      "execution_count": 13,
      "outputs": []
    },
    {
      "cell_type": "markdown",
      "source": [
        "#Thresholdlara göre outlier var mı yok mu diye kontrol etmek için:\n"
      ],
      "metadata": {
        "id": "P7GUE-n8lgd3"
      }
    },
    {
      "cell_type": "code",
      "source": [
        "def check_outlier(dataframe, col_name):\n",
        "  low_limit, up_limit = outlier_thresholds(dataframe, col_name)\n",
        "  if dataframe[(dataframe[col_name] > up_limit) | (dataframe[col_name] < low_limit)].any(axis=None):\n",
        "    return True\n",
        "  else:\n",
        "    return False"
      ],
      "metadata": {
        "id": "47QOZShKjAAK"
      },
      "execution_count": 14,
      "outputs": []
    },
    {
      "cell_type": "markdown",
      "source": [
        "#Var olan outlierları görmek için:\n"
      ],
      "metadata": {
        "id": "Ny5BNgBBli-x"
      }
    },
    {
      "cell_type": "code",
      "source": [
        "def grab_outliers(dataframe, col_name, index=False):\n",
        "  low, up = outlier_thresholds(dataframe, col_name)\n",
        "  if dataframe[((dataframe[col_name] < low) | (dataframe[col_name] > up))].shape[0] > 10:\n",
        "    print(dataframe[((dataframe[col_name] < low) | (dataframe[col_name] > up))].head())\n",
        "  else:\n",
        "    print(dataframe[((dataframe[col_name] < low) | (dataframe[col_name] > up))])\n",
        "\n",
        "  if index:\n",
        "    outlier_index = dataframe[((dataframe[col_name] < low) | (dataframe[col_name] > up))].index\n",
        "    return outlier_index"
      ],
      "metadata": {
        "id": "HtOti8EXjHIi"
      },
      "execution_count": 15,
      "outputs": []
    },
    {
      "cell_type": "markdown",
      "source": [
        "#Aykırı değerleri silme işlemi gerçekleştirmek için :\n"
      ],
      "metadata": {
        "id": "mG9Uov2WloCw"
      }
    },
    {
      "cell_type": "code",
      "source": [
        "def remove_outliers(dataframe, col_name, index=False):\n",
        "  low_limit, up_limit = outlier_thresholds(dataframe, col_name)\n",
        "  df_without_outliers = dataframe[~((dataframe[col_name] < low_limit) | (dataframe[col_name] > up_limit))]\n",
        "  return df_without_outliers"
      ],
      "metadata": {
        "id": "yAUejTlSjMhP"
      },
      "execution_count": 16,
      "outputs": []
    },
    {
      "cell_type": "markdown",
      "source": [
        "#Baskılama yöntemi uygulayarak, aykırı değerleri low ve uplarla değiştirmek için :\n"
      ],
      "metadata": {
        "id": "uMl_rSv4lr35"
      }
    },
    {
      "cell_type": "code",
      "source": [
        "#Atama yapmamıza gerek yok çünkü fonksiyonun içerisinde kullandığımız loc yapısından dolayı kalıcı değişiklik yapıyor olacak.\n",
        "def replace_with_thresholds(dataframe, variable):\n",
        "  low_limit, up_limit = outlier_thresholds(dataframe, variable)\n",
        "  dataframe.loc[(dataframe[variable] < low_limit), variable] = low_limit\n",
        "  dataframe.loc[(dataframe[variable] > up_limit), variable] = up_limit"
      ],
      "metadata": {
        "id": "HCs5ohkIjRb7"
      },
      "execution_count": 17,
      "outputs": []
    }
  ]
}