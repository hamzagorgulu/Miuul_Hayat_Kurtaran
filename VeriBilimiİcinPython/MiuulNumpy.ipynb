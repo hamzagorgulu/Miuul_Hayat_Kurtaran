{
  "nbformat": 4,
  "nbformat_minor": 0,
  "metadata": {
    "colab": {
      "name": "MiuulNumpy.ipynb",
      "provenance": [],
      "collapsed_sections": []
    },
    "kernelspec": {
      "name": "python3",
      "display_name": "Python 3"
    },
    "language_info": {
      "name": "python"
    }
  },
  "cells": [
    {
      "cell_type": "markdown",
      "source": [
        "Numpy bilimsel hesaplamalar için kullanılır. Matrisler, arrayler üzerinde yüksek performanslı çalışma imkanı sağlar. Numpy içerisinde bir veri tutarken fix type adı verilen sabitlenmiş tipte tutarak (sadece int, sadece str gibi) listelere kıyasla çok daha hızlı işlem yapmayı sağlar. Kısacası daha az çabayla daha çok işlem yapmayı sağlar."
      ],
      "metadata": {
        "id": "gvJlFnuGHBO7"
      }
    },
    {
      "cell_type": "code",
      "execution_count": null,
      "metadata": {
        "colab": {
          "base_uri": "https://localhost:8080/"
        },
        "id": "JLNXYc6NG51N",
        "outputId": "5eeedc00-f7b9-4923-d766-5f89cfe8c0a7"
      },
      "outputs": [
        {
          "output_type": "stream",
          "name": "stdout",
          "text": [
            "[2, 6, 12, 20]\n"
          ]
        },
        {
          "output_type": "execute_result",
          "data": {
            "text/plain": [
              "array([ 2,  6, 12, 20])"
            ]
          },
          "metadata": {},
          "execution_count": 4
        }
      ],
      "source": [
        "import numpy as np\n",
        "a = [1,2,3,4]\n",
        "b = [2,3,4,5]\n",
        "\n",
        "#without using numpy\n",
        "ab=[]\n",
        "for i in range(0, len(a)):\n",
        "  ab.append(a[i]* b[i])\n",
        "print(ab)\n",
        "#using numpy\n",
        "a = np.array([1,2,3,4])\n",
        "b = np.array([2,3,4,5])\n",
        "a*b"
      ]
    },
    {
      "cell_type": "code",
      "source": [
        "#creating numpy array\n",
        "np.array([1,2,3,4,5])\n",
        "type(np.array([1,2,3,4,5]))\n",
        "\n",
        "#tipi int olan 10 tane zero (yani 0)\n",
        "np.zeros(10,dtype=int) \n",
        "\n",
        "#0 ile 20 arasında 12 tane rastgele int seç\n",
        "np.random.randint(0,20,size = 12)\n",
        "\n",
        "#ortalaması, standart sapmasını ve boyut bilgisi --> 3e 4lük matris\n",
        "np.random.normal(10,4, (3,4))"
      ],
      "metadata": {
        "colab": {
          "base_uri": "https://localhost:8080/"
        },
        "id": "P9PAGk2iIdhi",
        "outputId": "b3c4bb3e-6baa-45be-ddb7-4556d5991a13"
      },
      "execution_count": null,
      "outputs": [
        {
          "output_type": "execute_result",
          "data": {
            "text/plain": [
              "array([[17.17905491, 13.68156265,  5.40323042, 10.80103903],\n",
              "       [ 6.95497242,  6.21215066, 16.13441861, 16.73033438],\n",
              "       [ 0.65053021,  6.88397118,  5.44033257,  6.33576143]])"
            ]
          },
          "metadata": {},
          "execution_count": 5
        }
      ]
    },
    {
      "cell_type": "code",
      "source": [
        "#ndim : boyut sayisi\n",
        "#shape : boyut bilgisi\n",
        "#size : toplam eleman sayisi\n",
        "#dtype : array veri tipi\n",
        "b = np.random.randint(10, size = 4)#default degeri 0 dan basliyor; 0 dan 10 a kadar 4 tane int deger.\n",
        "a = np.random.randint(3,10, size = 4)#3 den 10 a kadar 4 tane int deger.\n",
        "\n",
        "a.ndim\n",
        "a.shape\n",
        "a.size\n",
        "a.dtype"
      ],
      "metadata": {
        "colab": {
          "base_uri": "https://localhost:8080/"
        },
        "id": "jaONHl3SLOtp",
        "outputId": "09447748-ef63-4a19-dc27-077b800ec9b2"
      },
      "execution_count": null,
      "outputs": [
        {
          "output_type": "execute_result",
          "data": {
            "text/plain": [
              "dtype('int64')"
            ]
          },
          "metadata": {},
          "execution_count": 6
        }
      ]
    },
    {
      "cell_type": "code",
      "source": [
        "#RESHAPING\n",
        "np.random.randint(8,16, size = 8).reshape(4,2)\n",
        "#NOT: Reshape yapabilmek icin verilen matris boyutlarinin carpimi size a esit olmalidir !! Bu işlemi atama uzerinden de gerceklestirebiliriz.\n"
      ],
      "metadata": {
        "colab": {
          "base_uri": "https://localhost:8080/"
        },
        "id": "8nQHDkLYNqRu",
        "outputId": "87c04a1f-6a4f-4e65-87d2-2d8b22a94bbf"
      },
      "execution_count": null,
      "outputs": [
        {
          "output_type": "execute_result",
          "data": {
            "text/plain": [
              "array([[15, 10],\n",
              "       [12, 11],\n",
              "       [13,  9],\n",
              "       [14, 10]])"
            ]
          },
          "metadata": {},
          "execution_count": 7
        }
      ]
    },
    {
      "cell_type": "code",
      "source": [
        "#INDEX SECIMI\n",
        "#tek boyutlu arrayler icin:\n",
        "a = np.random.randint(6, size=4)\n",
        "a[0] #kacinci indexte hangi eleman var goruntulenebilir.\n",
        "a[2:4] #start stop verilerek incelenebilir.\n",
        "a[0] = 23 # atama yapilabilir.\n",
        "\n",
        "#marix seklindeki arrayler icin:\n",
        "b = np.random.randint(32, size=(3,6))\n",
        "b\n",
        "#b[0,0] #virgulden oncesi satirlari sonrasi sutunlari gosterir.\n",
        "b[2,3] = 34 #atama yapilabilir. Ancak buraya float bir deger girerseniz :\n",
        "#NOT: atama islemini float yapabilirsiniz ama numpy fix type oldugundan girilen float degerini sistem int degerini alacaktir. Mesela 2.9 girdiniz 2 atamasi yapmis olursunuz.\n",
        "b[:,0] #butun satırlari sec 0. sutunu sec.\n",
        "b[1,:] #birinci satir butun sutunlar.\n",
        "b[0:2, 3:5]"
      ],
      "metadata": {
        "colab": {
          "base_uri": "https://localhost:8080/"
        },
        "id": "lRKz1FcKPnut",
        "outputId": "ddf7f78e-d7db-462d-f04a-4ec4c9ca2814"
      },
      "execution_count": null,
      "outputs": [
        {
          "output_type": "execute_result",
          "data": {
            "text/plain": [
              "array([[ 1, 15],\n",
              "       [ 0, 26]])"
            ]
          },
          "metadata": {},
          "execution_count": 8
        }
      ]
    },
    {
      "cell_type": "code",
      "source": [
        "#Fancy Index : Numpy arrayinde seçim işlemi yapabilmemizi sağlar.\n",
        "v = np.arange(0,10,2)#0 dan 10a kadar 1 er 1 er artan index\n",
        "v[3]\n",
        "catch=[2,1,3]\n",
        "v[catch] #v arrayinde catch de bulunan indexleri aldik."
      ],
      "metadata": {
        "colab": {
          "base_uri": "https://localhost:8080/"
        },
        "id": "qjfMkgE1Q9Zn",
        "outputId": "1aabcd43-1fe9-4a6d-aa2b-fd7abf97c15d"
      },
      "execution_count": null,
      "outputs": [
        {
          "output_type": "execute_result",
          "data": {
            "text/plain": [
              "array([4, 2, 6])"
            ]
          },
          "metadata": {},
          "execution_count": 16
        }
      ]
    },
    {
      "cell_type": "code",
      "source": [
        "#Numpy Kosullu Islemler\n",
        "#manuel olarak:\n",
        "v = np.array([12,53,78,33,25])\n",
        "c=[]\n",
        "for i in v:\n",
        "  if i < 34:\n",
        "    c.append(i)\n",
        "c \n",
        "\n",
        "#numpy ile:\n",
        "v[v<34]"
      ],
      "metadata": {
        "colab": {
          "base_uri": "https://localhost:8080/"
        },
        "id": "nLNSmf_ngH0P",
        "outputId": "43886b38-4641-45c9-db79-2eb405f99319"
      },
      "execution_count": null,
      "outputs": [
        {
          "output_type": "execute_result",
          "data": {
            "text/plain": [
              "array([12, 33, 25])"
            ]
          },
          "metadata": {},
          "execution_count": 22
        }
      ]
    },
    {
      "cell_type": "markdown",
      "source": [
        "## **Matematiksel Islemler**"
      ],
      "metadata": {
        "id": "dSqDq31CnsPW"
      }
    },
    {
      "cell_type": "code",
      "source": [
        "#Buradaki hic bir islem kalici degildir. Atama yapilmadigi surece.\n",
        "x = [12,33,90,58,83,71]\n",
        "np.subtract(x,1)#butun elemanlardan 1 cikardi.\n"
      ],
      "metadata": {
        "colab": {
          "base_uri": "https://localhost:8080/"
        },
        "id": "v6qLNZCElKVV",
        "outputId": "5f349baa-486d-49d8-d055-addbc0a4cba6"
      },
      "execution_count": null,
      "outputs": [
        {
          "output_type": "execute_result",
          "data": {
            "text/plain": [
              "array([11, 32, 89, 57, 82, 70])"
            ]
          },
          "metadata": {},
          "execution_count": 35
        }
      ]
    },
    {
      "cell_type": "code",
      "source": [
        "np.add(x,1)# tum elemanlara 1 ekledi."
      ],
      "metadata": {
        "colab": {
          "base_uri": "https://localhost:8080/"
        },
        "id": "jEceeJL6nHck",
        "outputId": "6aeda4d9-92bf-43e1-81b1-8fa2db8aa7c2"
      },
      "execution_count": null,
      "outputs": [
        {
          "output_type": "execute_result",
          "data": {
            "text/plain": [
              "array([13, 34, 91, 59, 84, 72])"
            ]
          },
          "metadata": {},
          "execution_count": 36
        }
      ]
    },
    {
      "cell_type": "code",
      "source": [
        "np.mean(x) #ortalama"
      ],
      "metadata": {
        "colab": {
          "base_uri": "https://localhost:8080/"
        },
        "id": "7tz4sOTynarb",
        "outputId": "fffc0ff7-2b26-481c-98f7-98cba2abbe46"
      },
      "execution_count": null,
      "outputs": [
        {
          "output_type": "execute_result",
          "data": {
            "text/plain": [
              "57.833333333333336"
            ]
          },
          "metadata": {},
          "execution_count": 37
        }
      ]
    },
    {
      "cell_type": "code",
      "source": [
        "np.sum(x)#toplam"
      ],
      "metadata": {
        "colab": {
          "base_uri": "https://localhost:8080/"
        },
        "id": "RgdTHSpRndTh",
        "outputId": "a42b4f8e-c254-476a-b9f6-c644b0add74d"
      },
      "execution_count": null,
      "outputs": [
        {
          "output_type": "execute_result",
          "data": {
            "text/plain": [
              "347"
            ]
          },
          "metadata": {},
          "execution_count": 38
        }
      ]
    },
    {
      "cell_type": "code",
      "source": [
        "np.min(x)#min deger"
      ],
      "metadata": {
        "colab": {
          "base_uri": "https://localhost:8080/"
        },
        "id": "fNfwPdDlnfRc",
        "outputId": "09e7e82a-924a-4ba3-99d8-f27c46d088d5"
      },
      "execution_count": null,
      "outputs": [
        {
          "output_type": "execute_result",
          "data": {
            "text/plain": [
              "12"
            ]
          },
          "metadata": {},
          "execution_count": 39
        }
      ]
    },
    {
      "cell_type": "code",
      "source": [
        "np.max(x)#max deger"
      ],
      "metadata": {
        "colab": {
          "base_uri": "https://localhost:8080/"
        },
        "id": "inyHOtrcni2h",
        "outputId": "62efb4e9-2276-486a-8b88-f88da1d6c233"
      },
      "execution_count": null,
      "outputs": [
        {
          "output_type": "execute_result",
          "data": {
            "text/plain": [
              "90"
            ]
          },
          "metadata": {},
          "execution_count": 40
        }
      ]
    },
    {
      "cell_type": "code",
      "source": [
        "np.var(x)#varyansini getirdi."
      ],
      "metadata": {
        "colab": {
          "base_uri": "https://localhost:8080/"
        },
        "id": "A_bCcFGAnmB3",
        "outputId": "4b84bc8f-790e-490a-8c76-601f4d993a29"
      },
      "execution_count": null,
      "outputs": [
        {
          "output_type": "execute_result",
          "data": {
            "text/plain": [
              "759.8055555555557"
            ]
          },
          "metadata": {},
          "execution_count": 41
        }
      ]
    },
    {
      "cell_type": "code",
      "source": [
        "#Ornek : 2 bilinmeyenli denklem\n",
        "#5*x0 +x1 = 12\n",
        "#x0 + 3*x1 = 10\n",
        "\n",
        "a = np.array([[5,1], [1,3]]) # ilk denklemdeki x0 ve x1 inn kat sayilari, ikinci denklemdeki x0 ve x1 in kat sayilari\n",
        "b = np.array([12,10]) # ilk denklemin sonucu ve ikinci denklemin sonucu\n",
        "\n",
        "np.linalg.solve(a,b) #linear algebra , solve -> solve a linear matrix equation or system of linear scalar equations"
      ],
      "metadata": {
        "colab": {
          "base_uri": "https://localhost:8080/"
        },
        "id": "NdsYkfSbnnoO",
        "outputId": "3460f68b-5776-47b4-d0c7-3321f4d7b025"
      },
      "execution_count": null,
      "outputs": [
        {
          "output_type": "execute_result",
          "data": {
            "text/plain": [
              "array([1.85714286, 2.71428571])"
            ]
          },
          "metadata": {},
          "execution_count": 42
        }
      ]
    }
  ]
}